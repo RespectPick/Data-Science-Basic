{
 "cells": [
  {
   "cell_type": "code",
   "execution_count": 575,
   "metadata": {},
   "outputs": [],
   "source": [
    "# Курсовой проект для курса \"Python для Data Science\"\n",
    "\n",
    "# Материалы к проекту (файлы):\n",
    "# train.csv\n",
    "# test.csv\n",
    "\n",
    "# Задание:\n",
    "# Используя данные из train.csv, построить\n",
    "# модель для предсказания цен на недвижимость (квартиры).\n",
    "# С помощью полученной модели предсказать\n",
    "# цены для квартир из файла test.csv.\n",
    "\n",
    "# Целевая переменная:\n",
    "# Price\n",
    "\n",
    "# Основная метрика:\n",
    "# R2 - коэффициент детерминации (sklearn.metrics.r2_score)\n",
    "\n",
    "# Вспомогательная метрика:\n",
    "# MSE - средняя квадратичная ошибка (sklearn.metrics.mean_squared_error)"
   ]
  },
  {
   "cell_type": "code",
   "execution_count": 576,
   "metadata": {},
   "outputs": [],
   "source": [
    "import numpy as np\n",
    "import pandas as pd\n",
    "import matplotlib.pyplot as plt\n",
    "from sklearn.model_selection import train_test_split\n",
    "from sklearn.metrics import r2_score\n",
    "from sklearn.metrics import mean_squared_error as mse\n",
    "from sklearn.linear_model import LinearRegression\n",
    "\n",
    "%matplotlib inline"
   ]
  },
  {
   "cell_type": "code",
   "execution_count": 577,
   "metadata": {},
   "outputs": [],
   "source": [
    "data = pd.read_csv('train.csv')"
   ]
  },
  {
   "cell_type": "code",
   "execution_count": 578,
   "metadata": {},
   "outputs": [
    {
     "name": "stdout",
     "output_type": "stream",
     "text": [
      "<class 'pandas.core.frame.DataFrame'>\n",
      "RangeIndex: 10000 entries, 0 to 9999\n",
      "Data columns (total 20 columns):\n",
      "Id               10000 non-null int64\n",
      "DistrictId       10000 non-null int64\n",
      "Rooms            10000 non-null float64\n",
      "Square           10000 non-null float64\n",
      "LifeSquare       7887 non-null float64\n",
      "KitchenSquare    10000 non-null float64\n",
      "Floor            10000 non-null int64\n",
      "HouseFloor       10000 non-null float64\n",
      "HouseYear        10000 non-null int64\n",
      "Ecology_1        10000 non-null float64\n",
      "Ecology_2        10000 non-null object\n",
      "Ecology_3        10000 non-null object\n",
      "Social_1         10000 non-null int64\n",
      "Social_2         10000 non-null int64\n",
      "Social_3         10000 non-null int64\n",
      "Healthcare_1     5202 non-null float64\n",
      "Helthcare_2      10000 non-null int64\n",
      "Shops_1          10000 non-null int64\n",
      "Shops_2          10000 non-null object\n",
      "Price            10000 non-null float64\n",
      "dtypes: float64(8), int64(9), object(3)\n",
      "memory usage: 1.5+ MB\n"
     ]
    }
   ],
   "source": [
    "data.info()"
   ]
  },
  {
   "cell_type": "code",
   "execution_count": 579,
   "metadata": {},
   "outputs": [],
   "source": [
    "data['LifeSquare'] = data['LifeSquare'].fillna(data['LifeSquare'].mean())\n",
    "data['Healthcare_1'] = data['Healthcare_1'].fillna(data['Healthcare_1'].mean())"
   ]
  },
  {
   "cell_type": "code",
   "execution_count": 580,
   "metadata": {},
   "outputs": [],
   "source": [
    "data.loc[data['Rooms'] > 5]\n",
    "data.loc[377, 'Rooms'] = 3\n",
    "data.loc[1454, 'Rooms'] = 2\n",
    "data.loc[2170, 'Rooms'] = 3\n",
    "data.loc[8849, 'Rooms'] = 3"
   ]
  },
  {
   "cell_type": "code",
   "execution_count": 581,
   "metadata": {},
   "outputs": [],
   "source": [
    "del data['HouseFloor']"
   ]
  },
  {
   "cell_type": "code",
   "execution_count": 582,
   "metadata": {},
   "outputs": [],
   "source": [
    "data.loc[data['LifeSquare'] > data['Square'], 'Square'] = data['LifeSquare']"
   ]
  },
  {
   "cell_type": "code",
   "execution_count": 583,
   "metadata": {},
   "outputs": [],
   "source": [
    "data.loc[(data['KitchenSquare'] == 0) & (data['Square'] > data['LifeSquare']), 'KitchenSquare'] = \\\n",
    "data['Square'] - data['LifeSquare']"
   ]
  },
  {
   "cell_type": "code",
   "execution_count": null,
   "metadata": {},
   "outputs": [],
   "source": []
  },
  {
   "cell_type": "code",
   "execution_count": 584,
   "metadata": {},
   "outputs": [],
   "source": [
    "data.loc[(data['Rooms'] < 1) & (data['LifeSquare'] > 35), 'Rooms'] = 3"
   ]
  },
  {
   "cell_type": "code",
   "execution_count": 585,
   "metadata": {},
   "outputs": [],
   "source": [
    "data.loc[(data['Rooms'] < 1)] = 1"
   ]
  },
  {
   "cell_type": "code",
   "execution_count": 586,
   "metadata": {},
   "outputs": [],
   "source": [
    "data.loc[(data['Square'] < 15) & (data['LifeSquare'] < 15) & (data['Rooms'] <= 1), 'Square'] = \\\n",
    "data.loc[data['Rooms'] <= 1, 'Square'].mean()"
   ]
  },
  {
   "cell_type": "code",
   "execution_count": 587,
   "metadata": {},
   "outputs": [],
   "source": [
    "data.loc[(data['Square'] < 15) & (data['LifeSquare'] < 15) & (data['Rooms'] == 3), 'Square'] = \\\n",
    "data.loc[data['Rooms'] == 3, 'Square'].mean()"
   ]
  },
  {
   "cell_type": "code",
   "execution_count": 588,
   "metadata": {},
   "outputs": [],
   "source": [
    "data.loc[(data['Rooms'] == 3) & (data['LifeSquare'] < 35), 'LifeSquare'] = \\\n",
    "data.loc[data['Rooms'] == 3, 'LifeSquare'].mean()"
   ]
  },
  {
   "cell_type": "code",
   "execution_count": 589,
   "metadata": {},
   "outputs": [],
   "source": [
    "data.loc[(data['Rooms'] == 2) & (data['LifeSquare'] < 20), 'LifeSquare'] = \\\n",
    "data.loc[data['Rooms'] == 2, 'LifeSquare'].mean()"
   ]
  },
  {
   "cell_type": "code",
   "execution_count": 590,
   "metadata": {},
   "outputs": [],
   "source": [
    "data.loc[(data['Rooms'] == 1) & (data['LifeSquare'] < 15), 'LifeSquare'] = \\\n",
    "data.loc[data['Rooms'] == 1, 'LifeSquare'].mean()"
   ]
  },
  {
   "cell_type": "code",
   "execution_count": 591,
   "metadata": {},
   "outputs": [],
   "source": [
    "#data.loc[(data['Price'] > data['Price'].mean()) & (data['Rooms'] == 1), 'Price'] = \\\n",
    "#data.loc[data['Rooms'] == 1, 'Price'].mean()"
   ]
  },
  {
   "cell_type": "code",
   "execution_count": 592,
   "metadata": {},
   "outputs": [],
   "source": [
    "#data.loc[(data['Price'] > data['Price'].mean()) & (data['Rooms'] == 2), 'Price'] = \\\n",
    "#data.loc[data['Rooms'] == 2, 'Price'].mean()"
   ]
  },
  {
   "cell_type": "code",
   "execution_count": 593,
   "metadata": {},
   "outputs": [],
   "source": [
    "#data.loc[(data['Price'] > data['Price'].mean()) & (data['Rooms'] == 3), 'Price'] = \\\n",
    "#data.loc[data['Rooms'] == 3, 'Price'].mean()"
   ]
  },
  {
   "cell_type": "code",
   "execution_count": 594,
   "metadata": {},
   "outputs": [],
   "source": [
    "data.drop(4328, inplace=True)"
   ]
  },
  {
   "cell_type": "code",
   "execution_count": 595,
   "metadata": {},
   "outputs": [],
   "source": [
    "data.loc[(data['Rooms'] == 4) & (data['LifeSquare'] < 45), 'LifeSquare'] = \\\n",
    "data.loc[data['Rooms'] == 4, 'LifeSquare'].mean()\n",
    "data.loc[(data['Rooms'] == 5) & (data['LifeSquare'] < 55), 'LifeSquare'] = \\\n",
    "data.loc[data['Rooms'] == 5, 'LifeSquare'].mean()"
   ]
  },
  {
   "cell_type": "code",
   "execution_count": 596,
   "metadata": {},
   "outputs": [],
   "source": [
    "data.loc[(data['KitchenSquare'] > data['LifeSquare']) \n",
    "         & (data['KitchenSquare'] + data['LifeSquare'] == data['Square']), ['LifeSquare', 'KitchenSquare']] = \\\n",
    "data.loc[(data['KitchenSquare'] > data['LifeSquare']) \n",
    "         & (data['KitchenSquare'] + data['LifeSquare'] == data['Square']), ['KitchenSquare', 'LifeSquare']].values"
   ]
  },
  {
   "cell_type": "code",
   "execution_count": 597,
   "metadata": {},
   "outputs": [],
   "source": [
    "data.loc[(data['KitchenSquare'] < 10) & (data['Rooms'] == 3), 'KitchenSquare'] =\\\n",
    "data.loc[data['Rooms'] == 3, 'KitchenSquare'].mean()\n",
    "\n",
    "data.loc[(data['KitchenSquare'] < 7) & (data['Rooms'] == 2), 'KitchenSquare'] =\\\n",
    "data.loc[data['Rooms'] == 2, 'KitchenSquare'].mean()\n",
    "\n",
    "data.loc[(data['KitchenSquare'] < 5) & (data['Rooms'] == 1), 'KitchenSquare'] =\\\n",
    "data.loc[data['Rooms'] == 1, 'KitchenSquare'].mean()"
   ]
  },
  {
   "cell_type": "code",
   "execution_count": 598,
   "metadata": {},
   "outputs": [],
   "source": [
    "data['Square_2'] = data['Square'] ** 2"
   ]
  },
  {
   "cell_type": "code",
   "execution_count": 599,
   "metadata": {},
   "outputs": [],
   "source": [
    "data.loc[data['Square'] > 500, 'Square'] = data.loc[data['Rooms'] == 2, 'Square'].mean()"
   ]
  },
  {
   "cell_type": "code",
   "execution_count": 600,
   "metadata": {},
   "outputs": [],
   "source": [
    "data.loc[data['KitchenSquare'] > 500, 'KitchenSquare'] = data.loc[data['Rooms'] == 1, 'KitchenSquare'].mean()"
   ]
  },
  {
   "cell_type": "code",
   "execution_count": 601,
   "metadata": {},
   "outputs": [],
   "source": [
    "data.loc[data['Square'] < data['LifeSquare'], ['Square', 'LifeSquare']] = \\\n",
    "data.loc[data['Square'] < data['LifeSquare'], ['LifeSquare', 'Square']]"
   ]
  },
  {
   "cell_type": "code",
   "execution_count": 602,
   "metadata": {},
   "outputs": [],
   "source": [
    "data.loc[(data['KitchenSquare'] < 20) & (data['Rooms'] == 4), 'KitchenSquare'] = \\\n",
    "data.loc[(data['KitchenSquare'] < 20) & (data['Rooms'] == 4), 'KitchenSquare'].mean()"
   ]
  },
  {
   "cell_type": "code",
   "execution_count": 603,
   "metadata": {},
   "outputs": [],
   "source": [
    "data.loc[(data['KitchenSquare'] < 20) & (data['Rooms'] == 5), 'KitchenSquare'] = \\\n",
    "data.loc[(data['KitchenSquare'] < 20) & (data['Rooms'] == 5), 'KitchenSquare'].mean()"
   ]
  },
  {
   "cell_type": "code",
   "execution_count": 604,
   "metadata": {},
   "outputs": [],
   "source": [
    "data = pd.get_dummies(data)"
   ]
  },
  {
   "cell_type": "code",
   "execution_count": 605,
   "metadata": {},
   "outputs": [],
   "source": [
    "train, valid = train_test_split(data, test_size=0.3, random_state=42)"
   ]
  },
  {
   "cell_type": "code",
   "execution_count": 606,
   "metadata": {},
   "outputs": [
    {
     "data": {
      "text/plain": [
       "((6999, 26), (3000, 26))"
      ]
     },
     "execution_count": 606,
     "metadata": {},
     "output_type": "execute_result"
    }
   ],
   "source": [
    "train.shape, valid.shape"
   ]
  },
  {
   "cell_type": "code",
   "execution_count": 607,
   "metadata": {},
   "outputs": [
    {
     "data": {
      "text/plain": [
       "(623, 3)"
      ]
     },
     "execution_count": 607,
     "metadata": {},
     "output_type": "execute_result"
    }
   ],
   "source": [
    "district_stat = train.groupby(['DistrictId', 'Rooms'])[['Price']].mean().reset_index().rename(columns={'Price' : 'mean_price'})\n",
    "district_stat.shape"
   ]
  },
  {
   "cell_type": "code",
   "execution_count": 608,
   "metadata": {},
   "outputs": [
    {
     "data": {
      "text/plain": [
       "0"
      ]
     },
     "execution_count": 608,
     "metadata": {},
     "output_type": "execute_result"
    }
   ],
   "source": [
    "train = pd.merge(train, district_stat, on=['DistrictId', 'Rooms'], how='left')\n",
    "train['mean_price'].isnull().sum()"
   ]
  },
  {
   "cell_type": "code",
   "execution_count": 609,
   "metadata": {},
   "outputs": [
    {
     "data": {
      "text/plain": [
       "51"
      ]
     },
     "execution_count": 609,
     "metadata": {},
     "output_type": "execute_result"
    }
   ],
   "source": [
    "valid = pd.merge(valid, district_stat, on=['DistrictId', 'Rooms'], how='left')\n",
    "valid['mean_price'].isnull().sum()"
   ]
  },
  {
   "cell_type": "code",
   "execution_count": 610,
   "metadata": {},
   "outputs": [],
   "source": [
    "rooms_stat = train.groupby(['Rooms'])[['Price']].mean().reset_index().rename(columns={'Price':'mean_price2'})"
   ]
  },
  {
   "cell_type": "code",
   "execution_count": 611,
   "metadata": {},
   "outputs": [],
   "source": [
    "train = pd.merge(train, rooms_stat, on=['Rooms'], how='left')"
   ]
  },
  {
   "cell_type": "code",
   "execution_count": 612,
   "metadata": {},
   "outputs": [],
   "source": [
    "valid = pd.merge(valid, rooms_stat, on=['Rooms'], how='left')"
   ]
  },
  {
   "cell_type": "code",
   "execution_count": 613,
   "metadata": {},
   "outputs": [
    {
     "data": {
      "text/plain": [
       "0"
      ]
     },
     "execution_count": 613,
     "metadata": {},
     "output_type": "execute_result"
    }
   ],
   "source": [
    "valid['mean_price2'].isnull().sum()"
   ]
  },
  {
   "cell_type": "code",
   "execution_count": 614,
   "metadata": {},
   "outputs": [],
   "source": [
    "valid['mean_price'].fillna(valid['mean_price2'], inplace=True)"
   ]
  },
  {
   "cell_type": "code",
   "execution_count": 615,
   "metadata": {},
   "outputs": [],
   "source": [
    "# линейная регрессия"
   ]
  },
  {
   "cell_type": "code",
   "execution_count": 616,
   "metadata": {},
   "outputs": [],
   "source": [
    "lr = LinearRegression()\n",
    "features_for_predict = ['Square', 'Square_2','LifeSquare', 'Rooms', \n",
    "       'Floor', 'HouseYear', 'Ecology_1',\n",
    "        'Healthcare_1',\n",
    "       'Social_1', 'Social_2', 'Ecology_2_A', 'Ecology_2_B',\n",
    "        'Ecology_3_A', 'Ecology_3_B',\n",
    "       'Shops_1', 'Shops_2_A',\n",
    "       'Shops_2_B', 'mean_price',\n",
    "      ]\n"
   ]
  },
  {
   "cell_type": "code",
   "execution_count": 617,
   "metadata": {
    "scrolled": true
   },
   "outputs": [
    {
     "data": {
      "text/plain": [
       "LinearRegression(copy_X=True, fit_intercept=True, n_jobs=None,\n",
       "         normalize=False)"
      ]
     },
     "execution_count": 617,
     "metadata": {},
     "output_type": "execute_result"
    }
   ],
   "source": [
    "lr.fit(train.loc[:, features_for_predict], train['Price'])"
   ]
  },
  {
   "cell_type": "code",
   "execution_count": 618,
   "metadata": {},
   "outputs": [],
   "source": [
    "pred_train = lr.predict(train.loc[:, features_for_predict])"
   ]
  },
  {
   "cell_type": "code",
   "execution_count": 619,
   "metadata": {},
   "outputs": [
    {
     "data": {
      "text/plain": [
       "0.7318724017829429"
      ]
     },
     "execution_count": 619,
     "metadata": {},
     "output_type": "execute_result"
    }
   ],
   "source": [
    "r2_score(train['Price'], pred_train)"
   ]
  },
  {
   "cell_type": "code",
   "execution_count": 620,
   "metadata": {},
   "outputs": [],
   "source": [
    "pred = lr.predict(valid.loc[:, features_for_predict])"
   ]
  },
  {
   "cell_type": "code",
   "execution_count": 621,
   "metadata": {},
   "outputs": [
    {
     "data": {
      "text/html": [
       "<div>\n",
       "<style scoped>\n",
       "    .dataframe tbody tr th:only-of-type {\n",
       "        vertical-align: middle;\n",
       "    }\n",
       "\n",
       "    .dataframe tbody tr th {\n",
       "        vertical-align: top;\n",
       "    }\n",
       "\n",
       "    .dataframe thead th {\n",
       "        text-align: right;\n",
       "    }\n",
       "</style>\n",
       "<table border=\"1\" class=\"dataframe\">\n",
       "  <thead>\n",
       "    <tr style=\"text-align: right;\">\n",
       "      <th></th>\n",
       "      <th>valid_price</th>\n",
       "      <th>pred_valid_price</th>\n",
       "    </tr>\n",
       "  </thead>\n",
       "  <tbody>\n",
       "    <tr>\n",
       "      <th>0</th>\n",
       "      <td>187042.020422</td>\n",
       "      <td>209174.019169</td>\n",
       "    </tr>\n",
       "    <tr>\n",
       "      <th>1</th>\n",
       "      <td>258182.675237</td>\n",
       "      <td>200146.517738</td>\n",
       "    </tr>\n",
       "    <tr>\n",
       "      <th>2</th>\n",
       "      <td>219945.304640</td>\n",
       "      <td>215058.525468</td>\n",
       "    </tr>\n",
       "    <tr>\n",
       "      <th>3</th>\n",
       "      <td>102666.191762</td>\n",
       "      <td>141694.463286</td>\n",
       "    </tr>\n",
       "    <tr>\n",
       "      <th>4</th>\n",
       "      <td>158287.271791</td>\n",
       "      <td>151363.261029</td>\n",
       "    </tr>\n",
       "    <tr>\n",
       "      <th>5</th>\n",
       "      <td>102577.541221</td>\n",
       "      <td>216901.996533</td>\n",
       "    </tr>\n",
       "    <tr>\n",
       "      <th>6</th>\n",
       "      <td>377445.078933</td>\n",
       "      <td>351774.111838</td>\n",
       "    </tr>\n",
       "    <tr>\n",
       "      <th>7</th>\n",
       "      <td>260094.938025</td>\n",
       "      <td>222797.791590</td>\n",
       "    </tr>\n",
       "    <tr>\n",
       "      <th>8</th>\n",
       "      <td>148458.941020</td>\n",
       "      <td>146956.092991</td>\n",
       "    </tr>\n",
       "    <tr>\n",
       "      <th>9</th>\n",
       "      <td>184036.005146</td>\n",
       "      <td>199589.466233</td>\n",
       "    </tr>\n",
       "  </tbody>\n",
       "</table>\n",
       "</div>"
      ],
      "text/plain": [
       "     valid_price  pred_valid_price\n",
       "0  187042.020422     209174.019169\n",
       "1  258182.675237     200146.517738\n",
       "2  219945.304640     215058.525468\n",
       "3  102666.191762     141694.463286\n",
       "4  158287.271791     151363.261029\n",
       "5  102577.541221     216901.996533\n",
       "6  377445.078933     351774.111838\n",
       "7  260094.938025     222797.791590\n",
       "8  148458.941020     146956.092991\n",
       "9  184036.005146     199589.466233"
      ]
     },
     "execution_count": 621,
     "metadata": {},
     "output_type": "execute_result"
    }
   ],
   "source": [
    "valid_pred = pd.DataFrame({'valid_price' : valid['Price'], 'pred_valid_price' : pred})\n",
    "valid_pred.head(10)"
   ]
  },
  {
   "cell_type": "code",
   "execution_count": 622,
   "metadata": {},
   "outputs": [
    {
     "data": {
      "text/plain": [
       "0.5725824608160162"
      ]
     },
     "execution_count": 622,
     "metadata": {},
     "output_type": "execute_result"
    }
   ],
   "source": [
    "r2_score(valid['Price'], pred)"
   ]
  },
  {
   "cell_type": "markdown",
   "metadata": {},
   "source": [
    "#### RF"
   ]
  },
  {
   "cell_type": "code",
   "execution_count": 623,
   "metadata": {},
   "outputs": [],
   "source": [
    "# random forest\n",
    "from sklearn.ensemble import RandomForestRegressor as RF"
   ]
  },
  {
   "cell_type": "code",
   "execution_count": 624,
   "metadata": {},
   "outputs": [],
   "source": [
    "random_state = 42"
   ]
  },
  {
   "cell_type": "code",
   "execution_count": 625,
   "metadata": {},
   "outputs": [],
   "source": [
    "rf = RF(max_depth=8, n_estimators=49, random_state=42)"
   ]
  },
  {
   "cell_type": "code",
   "execution_count": 626,
   "metadata": {},
   "outputs": [
    {
     "data": {
      "text/plain": [
       "RandomForestRegressor(bootstrap=True, criterion='mse', max_depth=8,\n",
       "           max_features='auto', max_leaf_nodes=None,\n",
       "           min_impurity_decrease=0.0, min_impurity_split=None,\n",
       "           min_samples_leaf=1, min_samples_split=2,\n",
       "           min_weight_fraction_leaf=0.0, n_estimators=49, n_jobs=None,\n",
       "           oob_score=False, random_state=42, verbose=0, warm_start=False)"
      ]
     },
     "execution_count": 626,
     "metadata": {},
     "output_type": "execute_result"
    }
   ],
   "source": [
    "rf.fit(train.loc[:, features_for_predict], train['Price'])"
   ]
  },
  {
   "cell_type": "code",
   "execution_count": 627,
   "metadata": {},
   "outputs": [],
   "source": [
    "pred = rf.predict(train.loc[:, features_for_predict])"
   ]
  },
  {
   "cell_type": "code",
   "execution_count": 628,
   "metadata": {},
   "outputs": [
    {
     "data": {
      "text/plain": [
       "0.84130355926252"
      ]
     },
     "execution_count": 628,
     "metadata": {},
     "output_type": "execute_result"
    }
   ],
   "source": [
    "r2_score(train['Price'], pred)"
   ]
  },
  {
   "cell_type": "code",
   "execution_count": 629,
   "metadata": {},
   "outputs": [],
   "source": [
    "pred_valid = rf.predict(valid.loc[:, features_for_predict])"
   ]
  },
  {
   "cell_type": "code",
   "execution_count": 630,
   "metadata": {},
   "outputs": [
    {
     "data": {
      "text/plain": [
       "0.6436349900767306"
      ]
     },
     "execution_count": 630,
     "metadata": {},
     "output_type": "execute_result"
    }
   ],
   "source": [
    "r2_score(valid['Price'], pred_valid)"
   ]
  },
  {
   "cell_type": "code",
   "execution_count": 631,
   "metadata": {},
   "outputs": [],
   "source": [
    "# for i in range(1, 100, 10):\n",
    "#     print(i)\n",
    "#     rf = RF(max_depth=8, n_estimators=20, min_samples_leaf=i)\n",
    "#     rf.fit(train.loc[:, features_for_predict], train['Price'])\n",
    "#     pred = rf.predict(train.loc[:, features_for_predict])\n",
    "#     print(r2_score(train['Price'], pred))\n",
    "#     pred_valid = rf.predict(valid.loc[:, features_for_predict])\n",
    "#     print(r2_score(valid['Price'], pred_valid))\n",
    "#     print()"
   ]
  },
  {
   "cell_type": "markdown",
   "metadata": {},
   "source": [
    "### предсказание на тесте"
   ]
  },
  {
   "cell_type": "code",
   "execution_count": 632,
   "metadata": {},
   "outputs": [],
   "source": [
    "test = pd.read_csv('test.csv')"
   ]
  },
  {
   "cell_type": "code",
   "execution_count": 633,
   "metadata": {},
   "outputs": [],
   "source": [
    "test['LifeSquare'] = test['LifeSquare'].fillna(test['LifeSquare'].mean())\n",
    "test['Healthcare_1'] = test['Healthcare_1'].fillna(test['Healthcare_1'].mean())"
   ]
  },
  {
   "cell_type": "code",
   "execution_count": 634,
   "metadata": {},
   "outputs": [],
   "source": [
    "del test['HouseFloor']"
   ]
  },
  {
   "cell_type": "code",
   "execution_count": 635,
   "metadata": {},
   "outputs": [],
   "source": [
    "test.loc[test['LifeSquare'] > test['Square'], 'Square'] = test['LifeSquare']"
   ]
  },
  {
   "cell_type": "code",
   "execution_count": 636,
   "metadata": {},
   "outputs": [],
   "source": [
    "test.loc[(test['KitchenSquare'] == 0) & (test['Square'] > test['LifeSquare']), 'KitchenSquare'] = \\\n",
    "test['Square'] - test['LifeSquare']"
   ]
  },
  {
   "cell_type": "code",
   "execution_count": 637,
   "metadata": {},
   "outputs": [],
   "source": [
    "test.loc[(test['Rooms'] < 1) & (test['LifeSquare'] > 35), 'Rooms'] = 3"
   ]
  },
  {
   "cell_type": "code",
   "execution_count": 638,
   "metadata": {},
   "outputs": [],
   "source": [
    "test.loc[(test['Rooms'] < 1)] = 1"
   ]
  },
  {
   "cell_type": "code",
   "execution_count": 639,
   "metadata": {},
   "outputs": [],
   "source": [
    "test.loc[(test['Square'] < 15) & (test['LifeSquare'] < 15) & (test['Rooms'] <= 1), 'Square'] = \\\n",
    "test.loc[test['Rooms'] <= 1, 'Square'].mean()"
   ]
  },
  {
   "cell_type": "code",
   "execution_count": 640,
   "metadata": {},
   "outputs": [],
   "source": [
    "test.loc[(test['Square'] < 15) & (test['LifeSquare'] < 15) & (test['Rooms'] == 3), 'Square'] = \\\n",
    "test.loc[test['Rooms'] == 3, 'Square'].mean()"
   ]
  },
  {
   "cell_type": "code",
   "execution_count": 641,
   "metadata": {},
   "outputs": [],
   "source": [
    "test.loc[(test['Rooms'] == 3) & (test['LifeSquare'] < 35), 'LifeSquare'] = \\\n",
    "test.loc[test['Rooms'] == 3, 'LifeSquare'].mean()"
   ]
  },
  {
   "cell_type": "code",
   "execution_count": 642,
   "metadata": {},
   "outputs": [],
   "source": [
    "test.loc[(test['Rooms'] == 2) & (test['LifeSquare'] < 20), 'LifeSquare'] = \\\n",
    "test.loc[test['Rooms'] == 2, 'LifeSquare'].mean()"
   ]
  },
  {
   "cell_type": "code",
   "execution_count": 643,
   "metadata": {},
   "outputs": [],
   "source": [
    "test.loc[(test['Rooms'] == 1) & (test['LifeSquare'] < 15), 'LifeSquare'] = \\\n",
    "test.loc[test['Rooms'] == 1, 'LifeSquare'].mean()"
   ]
  },
  {
   "cell_type": "code",
   "execution_count": 644,
   "metadata": {},
   "outputs": [],
   "source": [
    "test.loc[(test['Rooms'] == 4) & (test['LifeSquare'] < 45), 'LifeSquare'] = \\\n",
    "test.loc[test['Rooms'] == 4, 'LifeSquare'].mean()\n",
    "test.loc[(test['Rooms'] == 5) & (test['LifeSquare'] < 55), 'LifeSquare'] = \\\n",
    "test.loc[test['Rooms'] == 5, 'LifeSquare'].mean()"
   ]
  },
  {
   "cell_type": "code",
   "execution_count": 645,
   "metadata": {},
   "outputs": [],
   "source": [
    "test.loc[(test['KitchenSquare'] > test['LifeSquare']) \n",
    "         & (test['KitchenSquare'] + test['LifeSquare'] == test['Square']), ['LifeSquare', 'KitchenSquare']] = \\\n",
    "test.loc[(test['KitchenSquare'] > test['LifeSquare']) \n",
    "         & (test['KitchenSquare'] + test['LifeSquare'] == test['Square']), ['KitchenSquare', 'LifeSquare']].values"
   ]
  },
  {
   "cell_type": "code",
   "execution_count": 646,
   "metadata": {},
   "outputs": [],
   "source": [
    "test.loc[(test['KitchenSquare'] < 10) & (test['Rooms'] == 3), 'KitchenSquare'] =\\\n",
    "test.loc[test['Rooms'] == 3, 'KitchenSquare'].mean()\n",
    "\n",
    "test.loc[(test['KitchenSquare'] < 7) & (test['Rooms'] == 2), 'KitchenSquare'] =\\\n",
    "test.loc[test['Rooms'] == 2, 'KitchenSquare'].mean()\n",
    "\n",
    "test.loc[(test['KitchenSquare'] < 5) & (test['Rooms'] == 1), 'KitchenSquare'] =\\\n",
    "test.loc[test['Rooms'] == 1, 'KitchenSquare'].mean()"
   ]
  },
  {
   "cell_type": "code",
   "execution_count": 647,
   "metadata": {},
   "outputs": [],
   "source": [
    "test['Square_2'] = test['Square'] ** 2"
   ]
  },
  {
   "cell_type": "code",
   "execution_count": 648,
   "metadata": {},
   "outputs": [],
   "source": [
    "test.loc[test['Square'] > 500, 'Square'] = test.loc[test['Rooms'] == 2, 'Square'].mean()"
   ]
  },
  {
   "cell_type": "code",
   "execution_count": 649,
   "metadata": {},
   "outputs": [],
   "source": [
    "test.loc[test['KitchenSquare'] > 500, 'KitchenSquare'] = test.loc[test['Rooms'] == 1, 'KitchenSquare'].mean()"
   ]
  },
  {
   "cell_type": "code",
   "execution_count": 650,
   "metadata": {},
   "outputs": [],
   "source": [
    "test.loc[test['Square'] < test['LifeSquare'], ['Square', 'LifeSquare']] = \\\n",
    "test.loc[test['Square'] < test['LifeSquare'], ['LifeSquare', 'Square']]"
   ]
  },
  {
   "cell_type": "code",
   "execution_count": 651,
   "metadata": {},
   "outputs": [],
   "source": [
    "test.loc[(test['KitchenSquare'] < 20) & (test['Rooms'] == 4), 'KitchenSquare'] = \\\n",
    "test.loc[(test['KitchenSquare'] < 20) & (test['Rooms'] == 4), 'KitchenSquare'].mean()"
   ]
  },
  {
   "cell_type": "code",
   "execution_count": 652,
   "metadata": {},
   "outputs": [],
   "source": [
    "test.loc[(test['KitchenSquare'] < 20) & (test['Rooms'] == 5), 'KitchenSquare'] = \\\n",
    "test.loc[(test['KitchenSquare'] < 20) & (test['Rooms'] == 5), 'KitchenSquare'].mean()"
   ]
  },
  {
   "cell_type": "code",
   "execution_count": 653,
   "metadata": {},
   "outputs": [],
   "source": [
    "test = pd.merge(test, district_stat, on=['DistrictId', 'Rooms'], how='left')"
   ]
  },
  {
   "cell_type": "code",
   "execution_count": 654,
   "metadata": {},
   "outputs": [],
   "source": [
    "test = pd.merge(test, rooms_stat, on=['Rooms'], how='left')"
   ]
  },
  {
   "cell_type": "code",
   "execution_count": 655,
   "metadata": {},
   "outputs": [],
   "source": [
    "test = pd.get_dummies(test)"
   ]
  },
  {
   "cell_type": "code",
   "execution_count": 656,
   "metadata": {},
   "outputs": [
    {
     "data": {
      "text/plain": [
       "98"
      ]
     },
     "execution_count": 656,
     "metadata": {},
     "output_type": "execute_result"
    }
   ],
   "source": [
    "test['mean_price'].isnull().sum()"
   ]
  },
  {
   "cell_type": "code",
   "execution_count": 657,
   "metadata": {},
   "outputs": [],
   "source": [
    "test['mean_price'].fillna(test['mean_price2'].mean(), inplace=True)"
   ]
  },
  {
   "cell_type": "code",
   "execution_count": 658,
   "metadata": {},
   "outputs": [
    {
     "data": {
      "text/plain": [
       "3"
      ]
     },
     "execution_count": 658,
     "metadata": {},
     "output_type": "execute_result"
    }
   ],
   "source": [
    "test['mean_price2'].isnull().sum()"
   ]
  },
  {
   "cell_type": "code",
   "execution_count": 659,
   "metadata": {},
   "outputs": [],
   "source": [
    "test['mean_price2'].fillna(test['mean_price2'].mean(), inplace=True)"
   ]
  },
  {
   "cell_type": "code",
   "execution_count": 660,
   "metadata": {},
   "outputs": [],
   "source": [
    "test_pred = rf.predict(test.loc[:, features_for_predict])"
   ]
  },
  {
   "cell_type": "code",
   "execution_count": 662,
   "metadata": {},
   "outputs": [],
   "source": [
    "test['Price'] = test_pred"
   ]
  },
  {
   "cell_type": "code",
   "execution_count": 663,
   "metadata": {},
   "outputs": [],
   "source": [
    "test.loc[:, ['Id', 'Price']].to_csv('VBurtcev_predictions.csv')"
   ]
  }
 ],
 "metadata": {
  "kernelspec": {
   "display_name": "Python 3",
   "language": "python",
   "name": "python3"
  },
  "language_info": {
   "codemirror_mode": {
    "name": "ipython",
    "version": 3
   },
   "file_extension": ".py",
   "mimetype": "text/x-python",
   "name": "python",
   "nbconvert_exporter": "python",
   "pygments_lexer": "ipython3",
   "version": "3.7.1"
  }
 },
 "nbformat": 4,
 "nbformat_minor": 2
}
