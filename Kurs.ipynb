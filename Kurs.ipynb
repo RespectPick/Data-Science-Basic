{
 "cells": [
  {
   "cell_type": "code",
   "execution_count": 428,
   "metadata": {},
   "outputs": [],
   "source": [
    "# Курсовой проект для курса \"Python для Data Science\"\n",
    "\n",
    "# Материалы к проекту (файлы):\n",
    "# train.csv\n",
    "# test.csv\n",
    "\n",
    "# Задание:\n",
    "# Используя данные из train.csv, построить\n",
    "# модель для предсказания цен на недвижимость (квартиры).\n",
    "# С помощью полученной модели предсказать\n",
    "# цены для квартир из файла test.csv.\n",
    "\n",
    "# Целевая переменная:\n",
    "# Price\n",
    "\n",
    "# Основная метрика:\n",
    "# R2 - коэффициент детерминации (sklearn.metrics.r2_score)\n",
    "\n",
    "# Вспомогательная метрика:\n",
    "# MSE - средняя квадратичная ошибка (sklearn.metrics.mean_squared_error)"
   ]
  },
  {
   "cell_type": "code",
   "execution_count": 429,
   "metadata": {},
   "outputs": [],
   "source": [
    "import numpy as np\n",
    "import pandas as pd\n",
    "import matplotlib.pyplot as plt\n",
    "from sklearn.model_selection import train_test_split\n",
    "from sklearn.metrics import r2_score\n",
    "from sklearn.metrics import mean_squared_error as mse\n",
    "from sklearn.linear_model import LinearRegression\n",
    "\n",
    "%matplotlib inline"
   ]
  },
  {
   "cell_type": "code",
   "execution_count": 430,
   "metadata": {},
   "outputs": [],
   "source": [
    "data = pd.read_csv('train.csv')"
   ]
  },
  {
   "cell_type": "code",
   "execution_count": 431,
   "metadata": {},
   "outputs": [
    {
     "name": "stdout",
     "output_type": "stream",
     "text": [
      "<class 'pandas.core.frame.DataFrame'>\n",
      "RangeIndex: 10000 entries, 0 to 9999\n",
      "Data columns (total 20 columns):\n",
      "Id               10000 non-null int64\n",
      "DistrictId       10000 non-null int64\n",
      "Rooms            10000 non-null float64\n",
      "Square           10000 non-null float64\n",
      "LifeSquare       7887 non-null float64\n",
      "KitchenSquare    10000 non-null float64\n",
      "Floor            10000 non-null int64\n",
      "HouseFloor       10000 non-null float64\n",
      "HouseYear        10000 non-null int64\n",
      "Ecology_1        10000 non-null float64\n",
      "Ecology_2        10000 non-null object\n",
      "Ecology_3        10000 non-null object\n",
      "Social_1         10000 non-null int64\n",
      "Social_2         10000 non-null int64\n",
      "Social_3         10000 non-null int64\n",
      "Healthcare_1     5202 non-null float64\n",
      "Helthcare_2      10000 non-null int64\n",
      "Shops_1          10000 non-null int64\n",
      "Shops_2          10000 non-null object\n",
      "Price            10000 non-null float64\n",
      "dtypes: float64(8), int64(9), object(3)\n",
      "memory usage: 1.5+ MB\n"
     ]
    }
   ],
   "source": [
    "data.info()"
   ]
  },
  {
   "cell_type": "code",
   "execution_count": 432,
   "metadata": {},
   "outputs": [],
   "source": [
    "data['LifeSquare'] = data['LifeSquare'].fillna(data['LifeSquare'].mean())\n",
    "data['Healthcare_1'] = data['Healthcare_1'].fillna(data['Healthcare_1'].mean())"
   ]
  },
  {
   "cell_type": "code",
   "execution_count": 433,
   "metadata": {},
   "outputs": [],
   "source": [
    "data.loc[data['Rooms'] > 5]\n",
    "data.loc[377, 'Rooms'] = 3\n",
    "data.loc[1454, 'Rooms'] = 2\n",
    "data.loc[2170, 'Rooms'] = 3\n",
    "data.loc[8849, 'Rooms'] = 3"
   ]
  },
  {
   "cell_type": "code",
   "execution_count": 434,
   "metadata": {},
   "outputs": [],
   "source": [
    "del data['HouseFloor']"
   ]
  },
  {
   "cell_type": "code",
   "execution_count": 435,
   "metadata": {},
   "outputs": [],
   "source": [
    "data.loc[data['LifeSquare'] > data['Square'], 'Square'] = data['LifeSquare']"
   ]
  },
  {
   "cell_type": "code",
   "execution_count": 436,
   "metadata": {},
   "outputs": [],
   "source": [
    "data.loc[(data['KitchenSquare'] == 0) & (data['Square'] > data['LifeSquare']), 'KitchenSquare'] = \\\n",
    "data['Square'] - data['LifeSquare']"
   ]
  },
  {
   "cell_type": "code",
   "execution_count": null,
   "metadata": {},
   "outputs": [],
   "source": []
  },
  {
   "cell_type": "code",
   "execution_count": 437,
   "metadata": {},
   "outputs": [],
   "source": [
    "data.loc[(data['Rooms'] < 1) & (data['LifeSquare'] > 35), 'Rooms'] = 3"
   ]
  },
  {
   "cell_type": "code",
   "execution_count": 438,
   "metadata": {},
   "outputs": [],
   "source": [
    "data.loc[(data['Rooms'] < 1)] = 1"
   ]
  },
  {
   "cell_type": "code",
   "execution_count": 439,
   "metadata": {},
   "outputs": [],
   "source": [
    "data.loc[(data['Square'] < 15) & (data['LifeSquare'] < 15) & (data['Rooms'] <= 1), 'Square'] = \\\n",
    "data.loc[data['Rooms'] <= 1, 'Square'].mean()"
   ]
  },
  {
   "cell_type": "code",
   "execution_count": 440,
   "metadata": {},
   "outputs": [],
   "source": [
    "data.loc[(data['Square'] < 15) & (data['LifeSquare'] < 15) & (data['Rooms'] == 3), 'Square'] = \\\n",
    "data.loc[data['Rooms'] == 3, 'Square'].mean()"
   ]
  },
  {
   "cell_type": "code",
   "execution_count": 441,
   "metadata": {},
   "outputs": [],
   "source": [
    "data.loc[(data['Rooms'] == 3) & (data['LifeSquare'] < 35), 'LifeSquare'] = \\\n",
    "data.loc[data['Rooms'] == 3, 'LifeSquare'].mean()"
   ]
  },
  {
   "cell_type": "code",
   "execution_count": 442,
   "metadata": {},
   "outputs": [],
   "source": [
    "data.loc[(data['Rooms'] == 2) & (data['LifeSquare'] < 20), 'LifeSquare'] = \\\n",
    "data.loc[data['Rooms'] == 2, 'LifeSquare'].mean()"
   ]
  },
  {
   "cell_type": "code",
   "execution_count": 443,
   "metadata": {},
   "outputs": [],
   "source": [
    "data.loc[(data['Rooms'] == 1) & (data['LifeSquare'] < 15), 'LifeSquare'] = \\\n",
    "data.loc[data['Rooms'] == 1, 'LifeSquare'].mean()"
   ]
  },
  {
   "cell_type": "code",
   "execution_count": 444,
   "metadata": {},
   "outputs": [],
   "source": [
    "data.loc[(data['Price'] > data['Price'].mean()) & (data['Rooms'] == 1), 'Price'] = \\\n",
    "data.loc[data['Rooms'] == 1, 'Price'].mean()"
   ]
  },
  {
   "cell_type": "code",
   "execution_count": 445,
   "metadata": {},
   "outputs": [],
   "source": [
    "data.loc[(data['Price'] > data['Price'].mean()) & (data['Rooms'] == 2), 'Price'] = \\\n",
    "data.loc[data['Rooms'] == 2, 'Price'].mean()"
   ]
  },
  {
   "cell_type": "code",
   "execution_count": 446,
   "metadata": {},
   "outputs": [],
   "source": [
    "data.loc[(data['Price'] > data['Price'].mean()) & (data['Rooms'] == 3), 'Price'] = \\\n",
    "data.loc[data['Rooms'] == 3, 'Price'].mean()"
   ]
  },
  {
   "cell_type": "code",
   "execution_count": 447,
   "metadata": {},
   "outputs": [],
   "source": [
    "data.drop(4328, inplace=True)"
   ]
  },
  {
   "cell_type": "code",
   "execution_count": 448,
   "metadata": {},
   "outputs": [],
   "source": [
    "data.loc[(data['Rooms'] == 4) & (data['LifeSquare'] < 45), 'LifeSquare'] = \\\n",
    "data.loc[data['Rooms'] == 4, 'LifeSquare'].mean()\n",
    "data.loc[(data['Rooms'] == 5) & (data['LifeSquare'] < 55), 'LifeSquare'] = \\\n",
    "data.loc[data['Rooms'] == 5, 'LifeSquare'].mean()"
   ]
  },
  {
   "cell_type": "code",
   "execution_count": 449,
   "metadata": {},
   "outputs": [],
   "source": [
    "data.loc[(data['KitchenSquare'] > data['LifeSquare']) \n",
    "         & (data['KitchenSquare'] + data['LifeSquare'] == data['Square']), ['LifeSquare', 'KitchenSquare']] = \\\n",
    "data.loc[(data['KitchenSquare'] > data['LifeSquare']) \n",
    "         & (data['KitchenSquare'] + data['LifeSquare'] == data['Square']), ['KitchenSquare', 'LifeSquare']].values"
   ]
  },
  {
   "cell_type": "code",
   "execution_count": 450,
   "metadata": {},
   "outputs": [],
   "source": [
    "data.loc[(data['KitchenSquare'] < 10) & (data['Rooms'] == 3), 'KitchenSquare'] =\\\n",
    "data.loc[data['Rooms'] == 3, 'KitchenSquare'].mean()\n",
    "\n",
    "data.loc[(data['KitchenSquare'] < 7) & (data['Rooms'] == 2), 'KitchenSquare'] =\\\n",
    "data.loc[data['Rooms'] == 2, 'KitchenSquare'].mean()\n",
    "\n",
    "data.loc[(data['KitchenSquare'] < 5) & (data['Rooms'] == 1), 'KitchenSquare'] =\\\n",
    "data.loc[data['Rooms'] == 1, 'KitchenSquare'].mean()"
   ]
  },
  {
   "cell_type": "code",
   "execution_count": 451,
   "metadata": {},
   "outputs": [],
   "source": [
    "data['Square_2'] = data['Square'] ** 2"
   ]
  },
  {
   "cell_type": "code",
   "execution_count": 452,
   "metadata": {},
   "outputs": [],
   "source": [
    "data.loc[data['Square'] > 500, 'Square'] = data.loc[data['Rooms'] == 2, 'Square'].mean()"
   ]
  },
  {
   "cell_type": "code",
   "execution_count": 453,
   "metadata": {},
   "outputs": [],
   "source": [
    "data.loc[data['KitchenSquare'] > 500, 'KitchenSquare'] = data.loc[data['Rooms'] == 1, 'KitchenSquare'].mean()"
   ]
  },
  {
   "cell_type": "code",
   "execution_count": 454,
   "metadata": {},
   "outputs": [],
   "source": [
    "data.loc[data['Square'] < data['LifeSquare'], ['Square', 'LifeSquare']] = \\\n",
    "data.loc[data['Square'] < data['LifeSquare'], ['LifeSquare', 'Square']]"
   ]
  },
  {
   "cell_type": "code",
   "execution_count": 455,
   "metadata": {},
   "outputs": [],
   "source": [
    "data.loc[(data['KitchenSquare'] < 20) & (data['Rooms'] == 4), 'KitchenSquare'] = \\\n",
    "data.loc[(data['KitchenSquare'] < 20) & (data['Rooms'] == 4), 'KitchenSquare'].mean()"
   ]
  },
  {
   "cell_type": "code",
   "execution_count": 456,
   "metadata": {},
   "outputs": [],
   "source": [
    "data.loc[(data['KitchenSquare'] < 20) & (data['Rooms'] == 5), 'KitchenSquare'] = \\\n",
    "data.loc[(data['KitchenSquare'] < 20) & (data['Rooms'] == 5), 'KitchenSquare'].mean()"
   ]
  },
  {
   "cell_type": "code",
   "execution_count": 457,
   "metadata": {},
   "outputs": [],
   "source": [
    "data = pd.get_dummies(data)"
   ]
  },
  {
   "cell_type": "code",
   "execution_count": 458,
   "metadata": {},
   "outputs": [],
   "source": [
    "train, valid = train_test_split(data, test_size=0.3, random_state=42)"
   ]
  },
  {
   "cell_type": "code",
   "execution_count": 459,
   "metadata": {},
   "outputs": [
    {
     "data": {
      "text/plain": [
       "((6999, 26), (3000, 26))"
      ]
     },
     "execution_count": 459,
     "metadata": {},
     "output_type": "execute_result"
    }
   ],
   "source": [
    "train.shape, valid.shape"
   ]
  },
  {
   "cell_type": "code",
   "execution_count": 460,
   "metadata": {},
   "outputs": [
    {
     "data": {
      "text/plain": [
       "(623, 3)"
      ]
     },
     "execution_count": 460,
     "metadata": {},
     "output_type": "execute_result"
    }
   ],
   "source": [
    "district_stat = train.groupby(['DistrictId', 'Rooms'])[['Price']].mean().reset_index().rename(columns={'Price' : 'mean_price'})\n",
    "district_stat.shape"
   ]
  },
  {
   "cell_type": "code",
   "execution_count": 461,
   "metadata": {},
   "outputs": [
    {
     "data": {
      "text/plain": [
       "0"
      ]
     },
     "execution_count": 461,
     "metadata": {},
     "output_type": "execute_result"
    }
   ],
   "source": [
    "train = pd.merge(train, district_stat, on=['DistrictId', 'Rooms'], how='left')\n",
    "train['mean_price'].isnull().sum()"
   ]
  },
  {
   "cell_type": "code",
   "execution_count": 462,
   "metadata": {},
   "outputs": [
    {
     "data": {
      "text/plain": [
       "51"
      ]
     },
     "execution_count": 462,
     "metadata": {},
     "output_type": "execute_result"
    }
   ],
   "source": [
    "valid = pd.merge(valid, district_stat, on=['DistrictId', 'Rooms'], how='left')\n",
    "valid['mean_price'].isnull().sum()"
   ]
  },
  {
   "cell_type": "code",
   "execution_count": 463,
   "metadata": {},
   "outputs": [],
   "source": [
    "rooms_stat = train.groupby(['Rooms'])[['Price']].mean().reset_index().rename(columns={'Price':'mean_price2'})"
   ]
  },
  {
   "cell_type": "code",
   "execution_count": 464,
   "metadata": {},
   "outputs": [],
   "source": [
    "train = pd.merge(train, rooms_stat, on=['Rooms'], how='left')"
   ]
  },
  {
   "cell_type": "code",
   "execution_count": 465,
   "metadata": {},
   "outputs": [],
   "source": [
    "valid = pd.merge(valid, rooms_stat, on=['Rooms'], how='left')"
   ]
  },
  {
   "cell_type": "code",
   "execution_count": 466,
   "metadata": {},
   "outputs": [
    {
     "data": {
      "text/plain": [
       "0"
      ]
     },
     "execution_count": 466,
     "metadata": {},
     "output_type": "execute_result"
    }
   ],
   "source": [
    "valid['mean_price2'].isnull().sum()"
   ]
  },
  {
   "cell_type": "code",
   "execution_count": 467,
   "metadata": {},
   "outputs": [],
   "source": [
    "valid['mean_price'].fillna(valid['mean_price2'], inplace=True)"
   ]
  },
  {
   "cell_type": "code",
   "execution_count": 468,
   "metadata": {},
   "outputs": [],
   "source": [
    "# линейная регрессия"
   ]
  },
  {
   "cell_type": "code",
   "execution_count": 469,
   "metadata": {},
   "outputs": [],
   "source": [
    "lr = LinearRegression()\n",
    "features_for_predict = ['Square', 'Square_2','LifeSquare', 'Rooms', \n",
    "       'Floor', 'HouseYear', 'Ecology_1',\n",
    "        'Healthcare_1',\n",
    "       'Social_1', 'Social_2', 'Ecology_2_A', 'Ecology_2_B',\n",
    "        'Ecology_3_A', 'Ecology_3_B',\n",
    "       'Shops_1', 'Shops_2_A',\n",
    "       'Shops_2_B', 'mean_price',\n",
    "      ]\n"
   ]
  },
  {
   "cell_type": "code",
   "execution_count": 470,
   "metadata": {
    "scrolled": true
   },
   "outputs": [
    {
     "data": {
      "text/plain": [
       "LinearRegression(copy_X=True, fit_intercept=True, n_jobs=None,\n",
       "         normalize=False)"
      ]
     },
     "execution_count": 470,
     "metadata": {},
     "output_type": "execute_result"
    }
   ],
   "source": [
    "lr.fit(train.loc[:, features_for_predict], train['Price'])"
   ]
  },
  {
   "cell_type": "code",
   "execution_count": 471,
   "metadata": {},
   "outputs": [],
   "source": [
    "pred_train = lr.predict(train.loc[:, features_for_predict])"
   ]
  },
  {
   "cell_type": "code",
   "execution_count": 472,
   "metadata": {},
   "outputs": [
    {
     "data": {
      "text/plain": [
       "0.7876013191126413"
      ]
     },
     "execution_count": 472,
     "metadata": {},
     "output_type": "execute_result"
    }
   ],
   "source": [
    "r2_score(train['Price'], pred_train)"
   ]
  },
  {
   "cell_type": "code",
   "execution_count": 473,
   "metadata": {},
   "outputs": [],
   "source": [
    "pred = lr.predict(valid.loc[:, features_for_predict])"
   ]
  },
  {
   "cell_type": "code",
   "execution_count": 474,
   "metadata": {},
   "outputs": [
    {
     "data": {
      "text/html": [
       "<div>\n",
       "<style scoped>\n",
       "    .dataframe tbody tr th:only-of-type {\n",
       "        vertical-align: middle;\n",
       "    }\n",
       "\n",
       "    .dataframe tbody tr th {\n",
       "        vertical-align: top;\n",
       "    }\n",
       "\n",
       "    .dataframe thead th {\n",
       "        text-align: right;\n",
       "    }\n",
       "</style>\n",
       "<table border=\"1\" class=\"dataframe\">\n",
       "  <thead>\n",
       "    <tr style=\"text-align: right;\">\n",
       "      <th></th>\n",
       "      <th>valid_price</th>\n",
       "      <th>pred_valid_price</th>\n",
       "    </tr>\n",
       "  </thead>\n",
       "  <tbody>\n",
       "    <tr>\n",
       "      <th>0</th>\n",
       "      <td>187042.020422</td>\n",
       "      <td>175307.020840</td>\n",
       "    </tr>\n",
       "    <tr>\n",
       "      <th>1</th>\n",
       "      <td>215221.034144</td>\n",
       "      <td>179596.619566</td>\n",
       "    </tr>\n",
       "    <tr>\n",
       "      <th>2</th>\n",
       "      <td>289085.336309</td>\n",
       "      <td>276734.618216</td>\n",
       "    </tr>\n",
       "    <tr>\n",
       "      <th>3</th>\n",
       "      <td>102666.191762</td>\n",
       "      <td>130957.500737</td>\n",
       "    </tr>\n",
       "    <tr>\n",
       "      <th>4</th>\n",
       "      <td>158287.271791</td>\n",
       "      <td>141873.070365</td>\n",
       "    </tr>\n",
       "    <tr>\n",
       "      <th>5</th>\n",
       "      <td>102577.541221</td>\n",
       "      <td>205238.461235</td>\n",
       "    </tr>\n",
       "    <tr>\n",
       "      <th>6</th>\n",
       "      <td>215221.034144</td>\n",
       "      <td>217850.651254</td>\n",
       "    </tr>\n",
       "    <tr>\n",
       "      <th>7</th>\n",
       "      <td>215221.034144</td>\n",
       "      <td>214278.446909</td>\n",
       "    </tr>\n",
       "    <tr>\n",
       "      <th>8</th>\n",
       "      <td>148458.941020</td>\n",
       "      <td>145997.826861</td>\n",
       "    </tr>\n",
       "    <tr>\n",
       "      <th>9</th>\n",
       "      <td>184036.005146</td>\n",
       "      <td>193239.501527</td>\n",
       "    </tr>\n",
       "  </tbody>\n",
       "</table>\n",
       "</div>"
      ],
      "text/plain": [
       "     valid_price  pred_valid_price\n",
       "0  187042.020422     175307.020840\n",
       "1  215221.034144     179596.619566\n",
       "2  289085.336309     276734.618216\n",
       "3  102666.191762     130957.500737\n",
       "4  158287.271791     141873.070365\n",
       "5  102577.541221     205238.461235\n",
       "6  215221.034144     217850.651254\n",
       "7  215221.034144     214278.446909\n",
       "8  148458.941020     145997.826861\n",
       "9  184036.005146     193239.501527"
      ]
     },
     "execution_count": 474,
     "metadata": {},
     "output_type": "execute_result"
    }
   ],
   "source": [
    "valid_pred = pd.DataFrame({'valid_price' : valid['Price'], 'pred_valid_price' : pred})\n",
    "valid_pred.head(10)"
   ]
  },
  {
   "cell_type": "code",
   "execution_count": 475,
   "metadata": {},
   "outputs": [
    {
     "data": {
      "text/plain": [
       "0.6690633324043544"
      ]
     },
     "execution_count": 475,
     "metadata": {},
     "output_type": "execute_result"
    }
   ],
   "source": [
    "r2_score(valid['Price'], pred)"
   ]
  },
  {
   "cell_type": "markdown",
   "metadata": {},
   "source": [
    "#### RF"
   ]
  },
  {
   "cell_type": "code",
   "execution_count": 476,
   "metadata": {},
   "outputs": [],
   "source": [
    "# random forest\n",
    "from sklearn.ensemble import RandomForestRegressor as RF"
   ]
  },
  {
   "cell_type": "code",
   "execution_count": 477,
   "metadata": {},
   "outputs": [],
   "source": [
    "rf = RF(max_depth=8, n_estimators=49)"
   ]
  },
  {
   "cell_type": "code",
   "execution_count": 478,
   "metadata": {},
   "outputs": [
    {
     "data": {
      "text/plain": [
       "RandomForestRegressor(bootstrap=True, criterion='mse', max_depth=8,\n",
       "           max_features='auto', max_leaf_nodes=None,\n",
       "           min_impurity_decrease=0.0, min_impurity_split=None,\n",
       "           min_samples_leaf=1, min_samples_split=2,\n",
       "           min_weight_fraction_leaf=0.0, n_estimators=49, n_jobs=None,\n",
       "           oob_score=False, random_state=None, verbose=0, warm_start=False)"
      ]
     },
     "execution_count": 478,
     "metadata": {},
     "output_type": "execute_result"
    }
   ],
   "source": [
    "rf.fit(train.loc[:, features_for_predict], train['Price'])"
   ]
  },
  {
   "cell_type": "code",
   "execution_count": 479,
   "metadata": {},
   "outputs": [],
   "source": [
    "pred = rf.predict(train.loc[:, features_for_predict])"
   ]
  },
  {
   "cell_type": "code",
   "execution_count": 480,
   "metadata": {},
   "outputs": [
    {
     "data": {
      "text/plain": [
       "0.8605772645565204"
      ]
     },
     "execution_count": 480,
     "metadata": {},
     "output_type": "execute_result"
    }
   ],
   "source": [
    "r2_score(train['Price'], pred)"
   ]
  },
  {
   "cell_type": "code",
   "execution_count": 481,
   "metadata": {},
   "outputs": [],
   "source": [
    "pred_valid = rf.predict(valid.loc[:, features_for_predict])"
   ]
  },
  {
   "cell_type": "code",
   "execution_count": 482,
   "metadata": {},
   "outputs": [
    {
     "data": {
      "text/plain": [
       "0.7070732481205463"
      ]
     },
     "execution_count": 482,
     "metadata": {},
     "output_type": "execute_result"
    }
   ],
   "source": [
    "r2_score(valid['Price'], pred_valid)"
   ]
  },
  {
   "cell_type": "code",
   "execution_count": 483,
   "metadata": {},
   "outputs": [],
   "source": [
    "# for i in range(1, 100, 10):\n",
    "#     print(i)\n",
    "#     rf = RF(max_depth=8, n_estimators=20, min_samples_leaf=i)\n",
    "#     rf.fit(train.loc[:, features_for_predict], train['Price'])\n",
    "#     pred = rf.predict(train.loc[:, features_for_predict])\n",
    "#     print(r2_score(train['Price'], pred))\n",
    "#     pred_valid = rf.predict(valid.loc[:, features_for_predict])\n",
    "#     print(r2_score(valid['Price'], pred_valid))\n",
    "#     print()"
   ]
  },
  {
   "cell_type": "markdown",
   "metadata": {},
   "source": [
    "### предсказание на тесте"
   ]
  },
  {
   "cell_type": "code",
   "execution_count": 484,
   "metadata": {},
   "outputs": [],
   "source": [
    "test = pd.read_csv('test.csv')"
   ]
  },
  {
   "cell_type": "code",
   "execution_count": 485,
   "metadata": {},
   "outputs": [],
   "source": [
    "test['LifeSquare'] = test['LifeSquare'].fillna(test['LifeSquare'].mean())\n",
    "test['Healthcare_1'] = test['Healthcare_1'].fillna(test['Healthcare_1'].mean())"
   ]
  },
  {
   "cell_type": "code",
   "execution_count": 486,
   "metadata": {},
   "outputs": [],
   "source": [
    "test = pd.get_dummies(test)"
   ]
  },
  {
   "cell_type": "code",
   "execution_count": 487,
   "metadata": {},
   "outputs": [],
   "source": [
    "test['Square_2'] = test['Square'] ** 2"
   ]
  },
  {
   "cell_type": "code",
   "execution_count": 488,
   "metadata": {},
   "outputs": [],
   "source": [
    "test = pd.merge(test, district_stat, on=['DistrictId', 'Rooms'], how='left')"
   ]
  },
  {
   "cell_type": "code",
   "execution_count": 489,
   "metadata": {},
   "outputs": [],
   "source": [
    "test = pd.get_dummies(test)"
   ]
  },
  {
   "cell_type": "code",
   "execution_count": 490,
   "metadata": {},
   "outputs": [
    {
     "data": {
      "text/plain": [
       "100"
      ]
     },
     "execution_count": 490,
     "metadata": {},
     "output_type": "execute_result"
    }
   ],
   "source": [
    "test['mean_price'].isnull().sum()"
   ]
  },
  {
   "cell_type": "code",
   "execution_count": 498,
   "metadata": {},
   "outputs": [],
   "source": [
    "test['mean_price'].fillna(test['mean_price'].mean(), inplace=True)"
   ]
  },
  {
   "cell_type": "code",
   "execution_count": 501,
   "metadata": {},
   "outputs": [],
   "source": [
    "test_pred = rf.predict(test.loc[:, features_for_predict])"
   ]
  },
  {
   "cell_type": "code",
   "execution_count": 502,
   "metadata": {},
   "outputs": [],
   "source": [
    "test['Price'] = test_pred"
   ]
  },
  {
   "cell_type": "code",
   "execution_count": 503,
   "metadata": {},
   "outputs": [],
   "source": [
    "test.loc[:, ['Id', 'Price']].to_csv('VBurtcev_predictions.csv')"
   ]
  }
 ],
 "metadata": {
  "kernelspec": {
   "display_name": "Python 3",
   "language": "python",
   "name": "python3"
  },
  "language_info": {
   "codemirror_mode": {
    "name": "ipython",
    "version": 3
   },
   "file_extension": ".py",
   "mimetype": "text/x-python",
   "name": "python",
   "nbconvert_exporter": "python",
   "pygments_lexer": "ipython3",
   "version": "3.7.1"
  }
 },
 "nbformat": 4,
 "nbformat_minor": 2
}
